{
 "cells": [
  {
   "cell_type": "code",
   "execution_count": 1,
   "metadata": {
    "collapsed": true
   },
   "outputs": [
    {
     "data": {
      "text/plain": [
       "True"
      ]
     },
     "execution_count": 1,
     "metadata": {},
     "output_type": "execute_result"
    }
   ],
   "source": [
    "import web3_provider\n",
    "import mint\n",
    "from eth_account.messages import encode_defunct\n",
    "import verifier\n",
    "import binascii\n",
    "from dotenv import load_dotenv\n",
    "load_dotenv(override=True)"
   ]
  },
  {
   "cell_type": "code",
   "execution_count": 2,
   "metadata": {},
   "outputs": [],
   "source": [
    "w3, account = web3_provider.get_web3_provider_and_signer()"
   ]
  },
  {
   "cell_type": "code",
   "execution_count": 3,
   "metadata": {
    "collapsed": false,
    "pycharm": {
     "name": "#%%\n"
    }
   },
   "outputs": [
    {
     "name": "stdout",
     "output_type": "stream",
     "text": [
      "NFT minted\n"
     ]
    }
   ],
   "source": [
    "mint.mint_erc1155_for_single_address(account.address, 1)"
   ]
  },
  {
   "cell_type": "code",
   "execution_count": 4,
   "metadata": {
    "collapsed": false,
    "pycharm": {
     "name": "#%%\n"
    }
   },
   "outputs": [
    {
     "name": "stdout",
     "output_type": "stream",
     "text": [
      "6fddb00fa204fb8bae80048c2ee7de658a61054b377817faf4d369f9b665a42d664238bc369a24dce929daa6a292d6cb887271d800867773e7445f575fece7501b\n",
      "0xf39Fd6e51aad88F6F4ce6aB8827279cffFb92266\n"
     ]
    }
   ],
   "source": [
    "msg = \"test message\"\n",
    "message = encode_defunct(text=msg)\n",
    "signed_message = w3.eth.account.sign_message(message, private_key=account.key)\n",
    "print(binascii.hexlify(signed_message.signature).decode('utf-8'))\n",
    "print(account.address)"
   ]
  },
  {
   "cell_type": "code",
   "execution_count": 5,
   "metadata": {
    "collapsed": false,
    "pycharm": {
     "name": "#%%\n"
    }
   },
   "outputs": [
    {
     "data": {
      "text/plain": [
       "True"
      ]
     },
     "execution_count": 5,
     "metadata": {},
     "output_type": "execute_result"
    }
   ],
   "source": [
    "isWalletOwner = verifier.verifyWalletOwnership(msg, signed_message.signature, account.address)\n",
    "isWalletOwner"
   ]
  }
 ],
 "metadata": {
  "kernelspec": {
   "display_name": "Python 3",
   "language": "python",
   "name": "python3"
  },
  "language_info": {
   "codemirror_mode": {
    "name": "ipython",
    "version": 3
   },
   "file_extension": ".py",
   "mimetype": "text/x-python",
   "name": "python",
   "nbconvert_exporter": "python",
   "pygments_lexer": "ipython3",
   "version": "3.10.6"
  }
 },
 "nbformat": 4,
 "nbformat_minor": 0
}
